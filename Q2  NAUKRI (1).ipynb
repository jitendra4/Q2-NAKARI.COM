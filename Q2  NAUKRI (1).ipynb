{
 "cells": [
  {
   "cell_type": "code",
   "execution_count": 42,
   "metadata": {},
   "outputs": [
    {
     "name": "stdout",
     "output_type": "stream",
     "text": [
      "Requirement already satisfied: selenium in d:\\new folder\\lib\\site-packages (3.141.0)\n",
      "Requirement already satisfied: urllib3 in d:\\new folder\\lib\\site-packages (from selenium) (1.25.11)\n"
     ]
    }
   ],
   "source": [
    "!pip install selenium"
   ]
  },
  {
   "cell_type": "code",
   "execution_count": 43,
   "metadata": {},
   "outputs": [],
   "source": [
    "#LET REQRURIED LALARARIES\n",
    "import selenium\n",
    "import pandas as pd\n",
    "from selenium import webdriver"
   ]
  },
  {
   "cell_type": "code",
   "execution_count": 44,
   "metadata": {},
   "outputs": [],
   "source": [
    "# go to link= https://chromedriver.chromium.org/downloads"
   ]
  },
  {
   "cell_type": "code",
   "execution_count": 45,
   "metadata": {},
   "outputs": [],
   "source": [
    "# lets frist connect to the web drivers\n",
    "driver= webdriver.Chrome(r\"C:\\Users\\G\\Downloads\\chromedriver_win32\\chromedriver.exe\")"
   ]
  },
  {
   "cell_type": "code",
   "execution_count": 46,
   "metadata": {},
   "outputs": [],
   "source": [
    "# spectfying the URL of the webpage to be scraped\n",
    "url= (\"https://www.naukri.com/data-scientist-jobs-in-delhi-ncr?k=data%20scientist&l=delhi%2Fncr\")"
   ]
  },
  {
   "cell_type": "code",
   "execution_count": 47,
   "metadata": {},
   "outputs": [],
   "source": [
    "# let open the webpage through our web drivers\n",
    "driver.get(url)"
   ]
  },
  {
   "cell_type": "code",
   "execution_count": 48,
   "metadata": {},
   "outputs": [],
   "source": [
    "job_titles=[]\n",
    "company_name=[]\n",
    "job_location=[]\n",
    "full_job_description=[]"
   ]
  },
  {
   "cell_type": "code",
   "execution_count": 49,
   "metadata": {},
   "outputs": [
    {
     "data": {
      "text/plain": [
       "[<selenium.webdriver.remote.webelement.WebElement (session=\"2a724a01e9c001387624af72b828fb82\", element=\"d679963b-44e3-49a1-8d04-37c44c378a23\")>,\n",
       " <selenium.webdriver.remote.webelement.WebElement (session=\"2a724a01e9c001387624af72b828fb82\", element=\"51029ad6-110c-4bf6-bea2-7cda521b345e\")>,\n",
       " <selenium.webdriver.remote.webelement.WebElement (session=\"2a724a01e9c001387624af72b828fb82\", element=\"4a6e6b09-06b5-41a7-9b91-0fd7cf2d9d7d\")>,\n",
       " <selenium.webdriver.remote.webelement.WebElement (session=\"2a724a01e9c001387624af72b828fb82\", element=\"cd2faf0c-6895-4af1-b24b-f95951ebf613\")>]"
      ]
     },
     "execution_count": 49,
     "metadata": {},
     "output_type": "execute_result"
    }
   ],
   "source": [
    "# let extract all the tags having the job-titles\n",
    "titles_tag= driver.find_elements_by_xpath(\"//a[@class='title fw500 ellipsis']\")\n",
    "titles_tag[0:4]"
   ]
  },
  {
   "cell_type": "code",
   "execution_count": 50,
   "metadata": {},
   "outputs": [
    {
     "data": {
      "text/plain": [
       "['Data Scientist - Machine Learning - Remote Working',\n",
       " 'Founding Member & Principal Data Scientist - Machine Learning',\n",
       " 'Data Scientist (machine Learning /AI)',\n",
       " 'Data Scientist - Python/Machine Learning']"
      ]
     },
     "execution_count": 50,
     "metadata": {},
     "output_type": "execute_result"
    }
   ],
   "source": [
    "# let extracted job titles all items for loop\n",
    "for i in titles_tag:\n",
    "    titles=i.text\n",
    "    job_titles.append(titles)\n",
    "job_titles[0:4]"
   ]
  },
  {
   "cell_type": "code",
   "execution_count": 51,
   "metadata": {},
   "outputs": [
    {
     "data": {
      "text/plain": [
       "[<selenium.webdriver.remote.webelement.WebElement (session=\"2a724a01e9c001387624af72b828fb82\", element=\"62518229-413d-4146-b092-7b74c9173caa\")>,\n",
       " <selenium.webdriver.remote.webelement.WebElement (session=\"2a724a01e9c001387624af72b828fb82\", element=\"bb3f97ea-a924-4967-b5ba-c4150df39807\")>,\n",
       " <selenium.webdriver.remote.webelement.WebElement (session=\"2a724a01e9c001387624af72b828fb82\", element=\"933bad79-36b4-4321-9c54-71491cc83da6\")>,\n",
       " <selenium.webdriver.remote.webelement.WebElement (session=\"2a724a01e9c001387624af72b828fb82\", element=\"eee87e1e-c4af-4e13-b166-fbb3bfca8136\")>]"
      ]
     },
     "execution_count": 51,
     "metadata": {},
     "output_type": "execute_result"
    }
   ],
   "source": [
    "# let extract all the tags having the company-names\n",
    "company_tag= driver.find_elements_by_xpath(\"//a[@class='subTitle ellipsis fleft']\")\n",
    "company_tag[0:4]"
   ]
  },
  {
   "cell_type": "code",
   "execution_count": 52,
   "metadata": {},
   "outputs": [
    {
     "data": {
      "text/plain": [
       "['Doji Ltd', 'Benovymed Healthcare', 'Mastermind Network', 'Jubna']"
      ]
     },
     "execution_count": 52,
     "metadata": {},
     "output_type": "execute_result"
    }
   ],
   "source": [
    "# let extracted company-names all items for loop\n",
    "for i in company_tag:\n",
    "    company=i.text\n",
    "    company_name.append(company)\n",
    "company_name[0:4]"
   ]
  },
  {
   "cell_type": "code",
   "execution_count": 53,
   "metadata": {
    "scrolled": true
   },
   "outputs": [
    {
     "data": {
      "text/plain": [
       "[<selenium.webdriver.remote.webelement.WebElement (session=\"2a724a01e9c001387624af72b828fb82\", element=\"5ed6cdeb-3e10-4660-a4ed-8395b56f11af\")>,\n",
       " <selenium.webdriver.remote.webelement.WebElement (session=\"2a724a01e9c001387624af72b828fb82\", element=\"754f4604-e6ec-4226-8503-1291684da351\")>,\n",
       " <selenium.webdriver.remote.webelement.WebElement (session=\"2a724a01e9c001387624af72b828fb82\", element=\"46385f00-7bca-4481-b07d-c54f4e11405d\")>,\n",
       " <selenium.webdriver.remote.webelement.WebElement (session=\"2a724a01e9c001387624af72b828fb82\", element=\"18a1c76c-d4ad-4cb6-9dfc-4ea6e3ff0d8d\")>]"
      ]
     },
     "execution_count": 53,
     "metadata": {},
     "output_type": "execute_result"
    }
   ],
   "source": [
    "# let extract all the tags having the location-names\n",
    "location_tag= driver.find_elements_by_xpath(\"//li[@class='fleft grey-text br2 placeHolderLi location']/span[1]\")\n",
    "location_tag[0:4]"
   ]
  },
  {
   "cell_type": "code",
   "execution_count": 54,
   "metadata": {},
   "outputs": [
    {
     "data": {
      "text/plain": [
       "['Delhi NCR, Bengaluru, Anywhere in India',\n",
       " 'Gurgaon Gurugram',\n",
       " 'Delhi NCR, Mumbai, Bengaluru',\n",
       " 'Noida']"
      ]
     },
     "execution_count": 54,
     "metadata": {},
     "output_type": "execute_result"
    }
   ],
   "source": [
    "# let extracted company-names all items for loop\n",
    "for i in location_tag:\n",
    "    location=i.text\n",
    "    job_location.append(location)\n",
    "job_location[0:4]"
   ]
  },
  {
   "cell_type": "code",
   "execution_count": 56,
   "metadata": {},
   "outputs": [
    {
     "data": {
      "text/plain": [
       "[<selenium.webdriver.remote.webelement.WebElement (session=\"2a724a01e9c001387624af72b828fb82\", element=\"cb69f16e-8bfc-44fe-9ec7-6cb6720ba5d8\")>,\n",
       " <selenium.webdriver.remote.webelement.WebElement (session=\"2a724a01e9c001387624af72b828fb82\", element=\"279b9839-3164-4b22-b96d-c1c09d33073a\")>,\n",
       " <selenium.webdriver.remote.webelement.WebElement (session=\"2a724a01e9c001387624af72b828fb82\", element=\"a96cdc69-daa7-4563-a8ec-b11322bca0fb\")>,\n",
       " <selenium.webdriver.remote.webelement.WebElement (session=\"2a724a01e9c001387624af72b828fb82\", element=\"17755541-9ea4-46b3-a66e-4569ab516c8f\")>]"
      ]
     },
     "execution_count": 56,
     "metadata": {},
     "output_type": "execute_result"
    }
   ],
   "source": [
    "# let extract all the tags having the description-names\n",
    "description_tag= driver.find_elements_by_xpath(\"//div[@class='job-description fs12 grey-text']\")\n",
    "description_tag[0:4]"
   ]
  },
  {
   "cell_type": "code",
   "execution_count": 57,
   "metadata": {},
   "outputs": [
    {
     "data": {
      "text/plain": [
       "['Direct experience in performing statistical analyses or building a variety of machine l...',\n",
       " 'Founding Member & Principal Data Scientist - Machine Learning/Deep LearningRoles and Re...',\n",
       " 'Experience in Data Science based modeling using Python, pySpark, Building & Deploying m...',\n",
       " 'Proficient in Python ML libraries, Hadoop/ Redshift/ BigQueryMasters preferred Can envi...']"
      ]
     },
     "execution_count": 57,
     "metadata": {},
     "output_type": "execute_result"
    }
   ],
   "source": [
    "# let extracted cdescription-names all items for loop\n",
    "for i in description_tag:\n",
    "    description=i.text\n",
    "    full_job_description.append(description)\n",
    "full_job_description[0:4]"
   ]
  },
  {
   "cell_type": "code",
   "execution_count": 59,
   "metadata": {},
   "outputs": [
    {
     "name": "stdout",
     "output_type": "stream",
     "text": [
      "20 20 20 20\n"
     ]
    }
   ],
   "source": [
    "print(len(job_titles),\n",
    "len(company_name),\n",
    "len(job_location),\n",
    "len(full_job_description))"
   ]
  },
  {
   "cell_type": "code",
   "execution_count": 62,
   "metadata": {},
   "outputs": [
    {
     "data": {
      "text/html": [
       "<div>\n",
       "<style scoped>\n",
       "    .dataframe tbody tr th:only-of-type {\n",
       "        vertical-align: middle;\n",
       "    }\n",
       "\n",
       "    .dataframe tbody tr th {\n",
       "        vertical-align: top;\n",
       "    }\n",
       "\n",
       "    .dataframe thead th {\n",
       "        text-align: right;\n",
       "    }\n",
       "</style>\n",
       "<table border=\"1\" class=\"dataframe\">\n",
       "  <thead>\n",
       "    <tr style=\"text-align: right;\">\n",
       "      <th></th>\n",
       "      <th>titles</th>\n",
       "      <th>comapany</th>\n",
       "      <th>location</th>\n",
       "      <th>description</th>\n",
       "    </tr>\n",
       "  </thead>\n",
       "  <tbody>\n",
       "    <tr>\n",
       "      <th>0</th>\n",
       "      <td>Data Scientist - Machine Learning - Remote Wor...</td>\n",
       "      <td>Doji Ltd</td>\n",
       "      <td>Delhi NCR, Bengaluru, Anywhere in India</td>\n",
       "      <td>Direct experience in performing statistical an...</td>\n",
       "    </tr>\n",
       "    <tr>\n",
       "      <th>1</th>\n",
       "      <td>Founding Member &amp; Principal Data Scientist - M...</td>\n",
       "      <td>Benovymed Healthcare</td>\n",
       "      <td>Gurgaon Gurugram</td>\n",
       "      <td>Founding Member &amp; Principal Data Scientist - M...</td>\n",
       "    </tr>\n",
       "    <tr>\n",
       "      <th>2</th>\n",
       "      <td>Data Scientist (machine Learning /AI)</td>\n",
       "      <td>Mastermind Network</td>\n",
       "      <td>Delhi NCR, Mumbai, Bengaluru</td>\n",
       "      <td>Experience in Data Science based modeling usin...</td>\n",
       "    </tr>\n",
       "    <tr>\n",
       "      <th>3</th>\n",
       "      <td>Data Scientist - Python/Machine Learning</td>\n",
       "      <td>Jubna</td>\n",
       "      <td>Noida</td>\n",
       "      <td>Proficient in Python ML libraries, Hadoop/ Red...</td>\n",
       "    </tr>\n",
       "    <tr>\n",
       "      <th>4</th>\n",
       "      <td>Senior Data Scientist (Remote / Work from Home)</td>\n",
       "      <td>WalletHub</td>\n",
       "      <td>Chennai, Delhi NCR, Bengaluru</td>\n",
       "      <td>WalletHub, the #1 Personal Finance App in the ...</td>\n",
       "    </tr>\n",
       "    <tr>\n",
       "      <th>5</th>\n",
       "      <td>Tech Mahindra hiring For Data Scientist- Noida</td>\n",
       "      <td>tech mahindra ltd</td>\n",
       "      <td>Noida</td>\n",
       "      <td>Required Skills and ExperiencePractical experi...</td>\n",
       "    </tr>\n",
       "    <tr>\n",
       "      <th>6</th>\n",
       "      <td>Associate Data Scientist</td>\n",
       "      <td>Indegene Private Limited</td>\n",
       "      <td>Gurgaon</td>\n",
       "      <td>We are looking for an experienced Data Scienti...</td>\n",
       "    </tr>\n",
       "    <tr>\n",
       "      <th>7</th>\n",
       "      <td>Data Scientist</td>\n",
       "      <td>TransOrg Analytics</td>\n",
       "      <td>Gurgaon Gurugram</td>\n",
       "      <td>Bachelors in Computer Science/ Engineering, St...</td>\n",
       "    </tr>\n",
       "    <tr>\n",
       "      <th>8</th>\n",
       "      <td>Data Scientist - Commercial Planning and Analysis</td>\n",
       "      <td>Air Asia India Limited</td>\n",
       "      <td>Delhi NCR, Gurgaon</td>\n",
       "      <td>2 years of extensive experience in data scienc...</td>\n",
       "    </tr>\n",
       "    <tr>\n",
       "      <th>9</th>\n",
       "      <td>Analyst/Senior Analyst - DATA Scientist</td>\n",
       "      <td>Tredence</td>\n",
       "      <td>Chennai, Delhi NCR, Bengaluru</td>\n",
       "      <td>-Fair understanding of data infrastructure, da...</td>\n",
       "    </tr>\n",
       "    <tr>\n",
       "      <th>10</th>\n",
       "      <td>Data Scientist</td>\n",
       "      <td>Amity University</td>\n",
       "      <td>Faridabad, Delhi NCR, Ghaziabad</td>\n",
       "      <td>Bachelors / Masters in Mathematics / Computer ...</td>\n",
       "    </tr>\n",
       "    <tr>\n",
       "      <th>11</th>\n",
       "      <td>Data Scientist</td>\n",
       "      <td>GreatLearning</td>\n",
       "      <td>Bengaluru, Gurgaon</td>\n",
       "      <td>consistent and trouble free learning experience</td>\n",
       "    </tr>\n",
       "    <tr>\n",
       "      <th>12</th>\n",
       "      <td>Opening For Data Scientist in Axtria</td>\n",
       "      <td>Axtria India Private Limited</td>\n",
       "      <td>Bengaluru, Gurgaon, Noida</td>\n",
       "      <td>LOCATION: Gurgaon/Noida/Bangalore, ELIGIBILITY...</td>\n",
       "    </tr>\n",
       "    <tr>\n",
       "      <th>13</th>\n",
       "      <td>Data Scientist/Analyst - Machine Learning/Deep...</td>\n",
       "      <td>EchoIndia</td>\n",
       "      <td>Delhi</td>\n",
       "      <td>- Strong experience in statistical models and ...</td>\n",
       "    </tr>\n",
       "    <tr>\n",
       "      <th>14</th>\n",
       "      <td>Senior Data Scientist (Algorithmic Trading)</td>\n",
       "      <td>TETHYS TECHNOLOGIES PRIVATE LIMITED</td>\n",
       "      <td>Noida</td>\n",
       "      <td>Candidates should ideally have a Masters or Ph...</td>\n",
       "    </tr>\n",
       "    <tr>\n",
       "      <th>15</th>\n",
       "      <td>Principal Data Scientist - Big Data/Machine Le...</td>\n",
       "      <td>HyrEzy Talent Solutions</td>\n",
       "      <td>Delhi</td>\n",
       "      <td>6+ years of experience working with large data...</td>\n",
       "    </tr>\n",
       "    <tr>\n",
       "      <th>16</th>\n",
       "      <td>Python Developer with R (Data Scientist) - Noi...</td>\n",
       "      <td>Om Careers</td>\n",
       "      <td>Gurgaon, Noida</td>\n",
       "      <td>Share resume ASAP at: ruchi.satapathy@omcareer...</td>\n",
       "    </tr>\n",
       "    <tr>\n",
       "      <th>17</th>\n",
       "      <td>Data Scientist opening at Saarthee Technology ...</td>\n",
       "      <td>Saarthee Technology Pvt Ltd</td>\n",
       "      <td>Gurgaon</td>\n",
       "      <td>Bachelors in Engineering, Economics or Math wi...</td>\n",
       "    </tr>\n",
       "    <tr>\n",
       "      <th>18</th>\n",
       "      <td>CN - Strategy - MC - T&amp;O - OA Data Scientist (...</td>\n",
       "      <td>Accenture Solutions Pvt Ltd</td>\n",
       "      <td>Gurgaon Gurugram</td>\n",
       "      <td>PhD (preferred in social sciences) Industrial ...</td>\n",
       "    </tr>\n",
       "    <tr>\n",
       "      <th>19</th>\n",
       "      <td>Data Scientist( Hadoop/Redshift/BigQuery)</td>\n",
       "      <td>Jubna</td>\n",
       "      <td>Noida</td>\n",
       "      <td>Bachelors Degree in IT or related fieldCan env...</td>\n",
       "    </tr>\n",
       "  </tbody>\n",
       "</table>\n",
       "</div>"
      ],
      "text/plain": [
       "                                               titles  \\\n",
       "0   Data Scientist - Machine Learning - Remote Wor...   \n",
       "1   Founding Member & Principal Data Scientist - M...   \n",
       "2               Data Scientist (machine Learning /AI)   \n",
       "3            Data Scientist - Python/Machine Learning   \n",
       "4     Senior Data Scientist (Remote / Work from Home)   \n",
       "5      Tech Mahindra hiring For Data Scientist- Noida   \n",
       "6                            Associate Data Scientist   \n",
       "7                                      Data Scientist   \n",
       "8   Data Scientist - Commercial Planning and Analysis   \n",
       "9             Analyst/Senior Analyst - DATA Scientist   \n",
       "10                                     Data Scientist   \n",
       "11                                     Data Scientist   \n",
       "12               Opening For Data Scientist in Axtria   \n",
       "13  Data Scientist/Analyst - Machine Learning/Deep...   \n",
       "14        Senior Data Scientist (Algorithmic Trading)   \n",
       "15  Principal Data Scientist - Big Data/Machine Le...   \n",
       "16  Python Developer with R (Data Scientist) - Noi...   \n",
       "17  Data Scientist opening at Saarthee Technology ...   \n",
       "18  CN - Strategy - MC - T&O - OA Data Scientist (...   \n",
       "19          Data Scientist( Hadoop/Redshift/BigQuery)   \n",
       "\n",
       "                               comapany  \\\n",
       "0                              Doji Ltd   \n",
       "1                  Benovymed Healthcare   \n",
       "2                    Mastermind Network   \n",
       "3                                 Jubna   \n",
       "4                             WalletHub   \n",
       "5                     tech mahindra ltd   \n",
       "6              Indegene Private Limited   \n",
       "7                    TransOrg Analytics   \n",
       "8                Air Asia India Limited   \n",
       "9                              Tredence   \n",
       "10                     Amity University   \n",
       "11                        GreatLearning   \n",
       "12         Axtria India Private Limited   \n",
       "13                            EchoIndia   \n",
       "14  TETHYS TECHNOLOGIES PRIVATE LIMITED   \n",
       "15              HyrEzy Talent Solutions   \n",
       "16                           Om Careers   \n",
       "17          Saarthee Technology Pvt Ltd   \n",
       "18          Accenture Solutions Pvt Ltd   \n",
       "19                                Jubna   \n",
       "\n",
       "                                   location  \\\n",
       "0   Delhi NCR, Bengaluru, Anywhere in India   \n",
       "1                          Gurgaon Gurugram   \n",
       "2              Delhi NCR, Mumbai, Bengaluru   \n",
       "3                                     Noida   \n",
       "4             Chennai, Delhi NCR, Bengaluru   \n",
       "5                                     Noida   \n",
       "6                                   Gurgaon   \n",
       "7                          Gurgaon Gurugram   \n",
       "8                        Delhi NCR, Gurgaon   \n",
       "9             Chennai, Delhi NCR, Bengaluru   \n",
       "10          Faridabad, Delhi NCR, Ghaziabad   \n",
       "11                       Bengaluru, Gurgaon   \n",
       "12                Bengaluru, Gurgaon, Noida   \n",
       "13                                    Delhi   \n",
       "14                                    Noida   \n",
       "15                                    Delhi   \n",
       "16                           Gurgaon, Noida   \n",
       "17                                  Gurgaon   \n",
       "18                         Gurgaon Gurugram   \n",
       "19                                    Noida   \n",
       "\n",
       "                                          description  \n",
       "0   Direct experience in performing statistical an...  \n",
       "1   Founding Member & Principal Data Scientist - M...  \n",
       "2   Experience in Data Science based modeling usin...  \n",
       "3   Proficient in Python ML libraries, Hadoop/ Red...  \n",
       "4   WalletHub, the #1 Personal Finance App in the ...  \n",
       "5   Required Skills and ExperiencePractical experi...  \n",
       "6   We are looking for an experienced Data Scienti...  \n",
       "7   Bachelors in Computer Science/ Engineering, St...  \n",
       "8   2 years of extensive experience in data scienc...  \n",
       "9   -Fair understanding of data infrastructure, da...  \n",
       "10  Bachelors / Masters in Mathematics / Computer ...  \n",
       "11    consistent and trouble free learning experience  \n",
       "12  LOCATION: Gurgaon/Noida/Bangalore, ELIGIBILITY...  \n",
       "13  - Strong experience in statistical models and ...  \n",
       "14  Candidates should ideally have a Masters or Ph...  \n",
       "15  6+ years of experience working with large data...  \n",
       "16  Share resume ASAP at: ruchi.satapathy@omcareer...  \n",
       "17  Bachelors in Engineering, Economics or Math wi...  \n",
       "18  PhD (preferred in social sciences) Industrial ...  \n",
       "19  Bachelors Degree in IT or related fieldCan env...  "
      ]
     },
     "execution_count": 62,
     "metadata": {},
     "output_type": "execute_result"
    }
   ],
   "source": [
    "import pandas as pd\n",
    "jobs= pd.DataFrame({})\n",
    "jobs['titles']=job_titles\n",
    "jobs['comapany']=company_name\n",
    "jobs['location']=job_location\n",
    "jobs['description']=full_job_description\n",
    "jobs"
   ]
  },
  {
   "cell_type": "code",
   "execution_count": null,
   "metadata": {},
   "outputs": [],
   "source": []
  }
 ],
 "metadata": {
  "kernelspec": {
   "display_name": "Python 3",
   "language": "python",
   "name": "python3"
  },
  "language_info": {
   "codemirror_mode": {
    "name": "ipython",
    "version": 3
   },
   "file_extension": ".py",
   "mimetype": "text/x-python",
   "name": "python",
   "nbconvert_exporter": "python",
   "pygments_lexer": "ipython3",
   "version": "3.8.5"
  }
 },
 "nbformat": 4,
 "nbformat_minor": 4
}
